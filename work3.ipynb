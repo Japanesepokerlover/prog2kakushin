{
  "nbformat": 4,
  "nbformat_minor": 0,
  "metadata": {
    "colab": {
      "provenance": [],
      "authorship_tag": "ABX9TyMbnlN3sxl3UK0HgMY++gys",
      "include_colab_link": true
    },
    "kernelspec": {
      "name": "python3",
      "display_name": "Python 3"
    },
    "language_info": {
      "name": "python"
    }
  },
  "cells": [
    {
      "cell_type": "markdown",
      "metadata": {
        "id": "view-in-github",
        "colab_type": "text"
      },
      "source": [
        "<a href=\"https://colab.research.google.com/github/Japanesepokerlover/prog2kakushin/blob/main/work3.ipynb\" target=\"_parent\"><img src=\"https://colab.research.google.com/assets/colab-badge.svg\" alt=\"Open In Colab\"/></a>"
      ]
    },
    {
      "cell_type": "markdown",
      "source": [
        "昨今twitterで話題の肌色バンを再現します。（肌色バンとは、肌色の面積が大きい画像を投稿すると他の人に表示させにくくされる一種のバンのことです）バンになるとレインボーの亀が盛大に煽ってきます。（余裕があればnyancat風にします）"
      ],
      "metadata": {
        "id": "69uNT6kcwGbh"
      }
    },
    {
      "cell_type": "code",
      "execution_count": null,
      "metadata": {
        "id": "Jr_d40_HvKHT"
      },
      "outputs": [],
      "source": []
    },
    {
      "cell_type": "markdown",
      "source": [],
      "metadata": {
        "id": "K5d0AKsCxEiR"
      }
    }
  ]
}