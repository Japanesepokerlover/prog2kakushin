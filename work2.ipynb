{
  "nbformat": 4,
  "nbformat_minor": 0,
  "metadata": {
    "colab": {
      "provenance": [],
      "authorship_tag": "ABX9TyM7uLVDNqucgUp/cjQu3bAs",
      "include_colab_link": true
    },
    "kernelspec": {
      "name": "python3",
      "display_name": "Python 3"
    },
    "language_info": {
      "name": "python"
    }
  },
  "cells": [
    {
      "cell_type": "markdown",
      "metadata": {
        "id": "view-in-github",
        "colab_type": "text"
      },
      "source": [
        "<a href=\"https://colab.research.google.com/github/Japanesepokerlover/prog2kakushin/blob/main/work2.ipynb\" target=\"_parent\"><img src=\"https://colab.research.google.com/assets/colab-badge.svg\" alt=\"Open In Colab\"/></a>"
      ]
    },
    {
      "cell_type": "markdown",
      "source": [
        "[AKQゲーム](https://alphanavis.hatenablog.com/entry/2018/06/24/12000)を実際に作ってみます。また、余裕があれば限定的なマルチストリートのAKQゲーム、そこにドローも含めたものも制作します。\n",
        "\n",
        "\n"
      ],
      "metadata": {
        "id": "FxDAWsoPs_2Z"
      }
    },
    {
      "cell_type": "code",
      "execution_count": null,
      "metadata": {
        "id": "uO14zhHws8F2"
      },
      "outputs": [],
      "source": []
    },
    {
      "cell_type": "markdown",
      "source": [
        "必要な奴読み込む用↑"
      ],
      "metadata": {
        "id": "QYq0wQ4wtAoh"
      }
    }
  ]
}