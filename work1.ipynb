{
  "nbformat": 4,
  "nbformat_minor": 0,
  "metadata": {
    "colab": {
      "provenance": [],
      "authorship_tag": "ABX9TyNPu/4ge0syTk9qIas632A1",
      "include_colab_link": true
    },
    "kernelspec": {
      "name": "python3",
      "display_name": "Python 3"
    },
    "language_info": {
      "name": "python"
    }
  },
  "cells": [
    {
      "cell_type": "markdown",
      "metadata": {
        "id": "view-in-github",
        "colab_type": "text"
      },
      "source": [
        "<a href=\"https://colab.research.google.com/github/Japanesepokerlover/prog2kakushin/blob/main/work1.ipynb\" target=\"_parent\"><img src=\"https://colab.research.google.com/assets/colab-badge.svg\" alt=\"Open In Colab\"/></a>"
      ]
    },
    {
      "cell_type": "markdown",
      "source": [
        "piosolver(pokerの解析ソフト）の解析結果を記したcsvファイルを読み込み、ボードごとの傾向などを調べ自身の戦略に落とし込むのを自動化するプログラムを組みます。"
      ],
      "metadata": {
        "id": "mN7XuFBur_jU"
      }
    },
    {
      "cell_type": "code",
      "execution_count": null,
      "metadata": {
        "id": "ppbhcwQGr0QG"
      },
      "outputs": [],
      "source": []
    },
    {
      "cell_type": "markdown",
      "source": [
        "必要な奴読み込む用↑"
      ],
      "metadata": {
        "id": "s3E6TTODr-WF"
      }
    }
  ]
}